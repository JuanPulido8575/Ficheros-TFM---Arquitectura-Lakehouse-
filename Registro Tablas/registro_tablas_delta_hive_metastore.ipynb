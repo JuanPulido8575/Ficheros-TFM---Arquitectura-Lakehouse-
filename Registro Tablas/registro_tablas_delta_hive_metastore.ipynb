{
 "cells": [
  {
   "cell_type": "markdown",
   "id": "798759cb-b94c-407c-8e13-488751ada868",
   "metadata": {},
   "source": [
    "## Registro de tablas Delta en el HIve metastore de Databricks CE"
   ]
  },
  {
   "cell_type": "markdown",
   "id": "29da0e78-eea1-41cd-859e-fb2fc2e16ac3",
   "metadata": {},
   "source": [
    "En el código siguiente, se registran las tablas Delta de votantes y llamadas en el Hive Metastore de Databricks CE, para habilitar su\n",
    "consulta a través del lenguaje SQL"
   ]
  },
  {
   "cell_type": "code",
   "execution_count": null,
   "id": "02b6daa3-b670-4434-848d-fdc5eacfc47a",
   "metadata": {},
   "outputs": [],
   "source": [
    "from pyspark.sql import SparkSession\n",
    "\n",
    "# 1) Crear la sesión Spark\n",
    "spark = (SparkSession.builder\n",
    "         .appName(\"Registro_Tablas_Delta\")\n",
    "         .enableHiveSupport()  # habilita Hive metastore\n",
    "         .getOrCreate())\n",
    "\n",
    "# 2) Crear la base de datos lógica para aislar el DW\n",
    "spark.sql(\"\"\"\n",
    "    CREATE DATABASE IF NOT EXISTS call_center_db\n",
    "    LOCATION '/mnt/Data Call Center/warehouse/call_center_db.db'\n",
    "\"\"\")\n",
    "\n",
    "# 3) Registrar la tabla Delta de VOTANTES\n",
    "spark.sql(\"\"\"\n",
    "    CREATE TABLE IF NOT EXISTS call_center_db.silver_voters\n",
    "    USING DELTA\n",
    "    LOCATION '/mnt/Data Call Center/Silver/Voters/'\n",
    "\"\"\")\n",
    "\n",
    "# 4) Registrar la tabla Delta de LLAMADAS\n",
    "spark.sql(\"\"\"\n",
    "    CREATE TABLE IF NOT EXISTS call_center_db.silver_calls\n",
    "    USING DELTA\n",
    "    LOCATION '/mnt/Data Call Center/Silver/Calls/'\n",
    "\"\"\")\n",
    "\n",
    "# 5) Una vez registradas las tablas Delta, almacenaremos una vista que combina las tablas. Esta acompañará las predicciones del modelo de Ml que se entrenará\n",
    "# para mostrar por votante y franja horaria, el número telefónico óptimo que maximiza su probabilidad de contestación\n",
    "spark.sql(\"\"\"\n",
    "    CREATE OR REPLACE VIEW call_center_db.v_response_by_voter_and_time AS\n",
    "    SELECT\n",
    "        v.vendor_lead_code,\n",
    "        v.full_name,\n",
    "        v.district_number,\n",
    "        v.age,\n",
    "        v.gender,\n",
    "        c.call_date,\n",
    "        HOUR(TO_TIMESTAMP(c.call_date, 'yyyy-MM-dd HH:mm:ss')) AS call_hour,\n",
    "        c.phone_number_dialed,\n",
    "        c.status,\n",
    "        CASE WHEN LOWER(c.status) IN ('answered', 'completed') THEN 1 ELSE 0 END AS answered\n",
    "    FROM call_center_db.silver_calls c\n",
    "    LEFT JOIN call_center_db.silver_voters v\n",
    "    ON c.vendor_lead_code = v.vendor_lead_code\n",
    "\"\"\")\n",
    "\n",
    "# 6) Consultas opcionales para verificar\n",
    "spark.sql(\"SHOW TABLES IN call_center_db\").show()\n",
    "spark.sql(\"DESCRIBE DETAIL call_center_db.silver_voters\").show(truncate=False)\n",
    "spark.sql(\"DESCRIBE DETAIL call_center_db.silver_calls\").show(truncate=False)"
   ]
  }
 ],
 "metadata": {
  "kernelspec": {
   "display_name": "Python 3 (ipykernel)",
   "language": "python",
   "name": "python3"
  },
  "language_info": {
   "codemirror_mode": {
    "name": "ipython",
    "version": 3
   },
   "file_extension": ".py",
   "mimetype": "text/x-python",
   "name": "python",
   "nbconvert_exporter": "python",
   "pygments_lexer": "ipython3",
   "version": "3.11.11"
  }
 },
 "nbformat": 4,
 "nbformat_minor": 5
}
