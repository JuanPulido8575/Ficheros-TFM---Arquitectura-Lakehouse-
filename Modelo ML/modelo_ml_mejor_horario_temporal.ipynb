{
 "cells": [
  {
   "cell_type": "markdown",
   "id": "3f304943-fe06-4503-a2e9-714a73a4efa9",
   "metadata": {},
   "source": [
    "## El siguiente código es un prototipo del código real que buscará el mejor modelo para predecir los horarios óptimos de llamada por votante"
   ]
  },
  {
   "cell_type": "code",
   "execution_count": null,
   "id": "23f58e3e-963e-4a83-bbcd-88dbe9dc63b8",
   "metadata": {},
   "outputs": [],
   "source": [
    "from pyspark.sql import SparkSession\n",
    "from pyspark.ml import Pipeline\n",
    "from pyspark.ml.feature import StringIndexer, OneHotEncoder, VectorAssembler\n",
    "from pyspark.ml.classification import RandomForestClassifier\n",
    "from pyspark.ml.evaluation import BinaryClassificationEvaluator\n",
    "\n",
    "# 1) Iniciar sesión Spark\n",
    "spark = SparkSession.builder \\\n",
    "    .appName(\"Modelo_Prediccion_Respuesta_Llamada\") \\\n",
    "    .enableHiveSupport() \\\n",
    "    .getOrCreate()\n",
    "\n",
    "# 2) Cargar las tablas registradas en el metastore\n",
    "voters_df = spark.table(\"call_center_db.silver_voters\")\n",
    "calls_df = spark.table(\"call_center_db.silver_calls\")\n",
    "\n",
    "# 3) Unir por voter_id (código único de votante)\n",
    "joined_df = calls_df.alias(\"c\") \\\n",
    "    .join(voters_df.alias(\"v\"), on=\"voter_id\", how=\"left\") \\\n",
    "    .select(\n",
    "        \"v.voter_id\",\n",
    "        \"v.full_name\",\n",
    "        \"v.district_number\",\n",
    "        \"v.age\",\n",
    "        \"v.gender\",\n",
    "        \"c.call_date\",\n",
    "        \"c.phone_number_dialed\",\n",
    "        \"c.status\"\n",
    "    )\n",
    "\n",
    "# 4) Extraer la hora de la llamada y construir la variable binaria 'answered'\n",
    "from pyspark.sql.functions import hour, to_timestamp, col, lower, when\n",
    "processed_df = joined_df.withColumn(\"call_hour\", hour(to_timestamp(\"call_date\", \"yyyy-MM-dd HH:mm:ss\"))) \\\n",
    "                         .withColumn(\"answered\", when(lower(col(\"status\")).isin(\"answered\", \"completed\"), 1).otherwise(0)) \\\n",
    "                         .select(\"age\", \"gender\", \"call_hour\", \"answered\") \\\n",
    "                         .dropna()\n",
    "\n",
    "# 5) Preprocesamiento de variables categóricas\n",
    "index_gender = StringIndexer(inputCol=\"gender\", outputCol=\"gender_index\")\n",
    "onehot_gender = OneHotEncoder(inputCol=\"gender_index\", outputCol=\"gender_vec\")\n",
    "\n",
    "# 6) Ensamblar características\n",
    "assembler = VectorAssembler(\n",
    "    inputCols=[\"age\", \"call_hour\", \"gender_vec\"],\n",
    "    outputCol=\"features\"\n",
    ")\n",
    "\n",
    "# 7) Modelo de clasificación\n",
    "rf = RandomForestClassifier(labelCol=\"answered\", featuresCol=\"features\", seed=42)\n",
    "\n",
    "# 8) Pipeline\n",
    "pipeline = Pipeline(stages=[index_gender, onehot_gender, assembler, rf])\n",
    "\n",
    "# 9) Entrenar modelo\n",
    "train_data, test_data = processed_df.randomSplit([0.8, 0.2], seed=123)\n",
    "model = pipeline.fit(train_data)\n",
    "\n",
    "# 10) Evaluación\n",
    "predictions = model.transform(test_data)\n",
    "evaluator = BinaryClassificationEvaluator(labelCol=\"answered\")\n",
    "auc = evaluator.evaluate(predictions)\n",
    "\n",
    "print(f\"AUC del modelo: {auc:.4f}\")\n"
   ]
  }
 ],
 "metadata": {
  "kernelspec": {
   "display_name": "Python 3 (ipykernel)",
   "language": "python",
   "name": "python3"
  },
  "language_info": {
   "codemirror_mode": {
    "name": "ipython",
    "version": 3
   },
   "file_extension": ".py",
   "mimetype": "text/x-python",
   "name": "python",
   "nbconvert_exporter": "python",
   "pygments_lexer": "ipython3",
   "version": "3.11.11"
  }
 },
 "nbformat": 4,
 "nbformat_minor": 5
}
